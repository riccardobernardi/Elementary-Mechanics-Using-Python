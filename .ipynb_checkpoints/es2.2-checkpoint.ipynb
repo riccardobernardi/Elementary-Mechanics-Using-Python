{
 "cells": [
  {
   "cell_type": "code",
   "execution_count": 1,
   "metadata": {},
   "outputs": [],
   "source": [
    "from pylab import *"
   ]
  },
  {
   "cell_type": "code",
   "execution_count": 2,
   "metadata": {},
   "outputs": [],
   "source": [
    "#mass of a sphere given radius and mass density rho\n",
    "def sphere_mass(radius,rho):\n",
    "    return ((4*pi)/3)*rho*radius**3"
   ]
  },
  {
   "cell_type": "code",
   "execution_count": 3,
   "metadata": {},
   "outputs": [
    {
     "name": "stdout",
     "output_type": "stream",
     "text": [
      "3.371976114853045e-08 kg\n"
     ]
    }
   ],
   "source": [
    "radius = 1e-3 #m\n",
    "rho = 8.050 #kg/m3\n",
    "mass = sphere_mass(radius,rho)\n",
    "print(str(mass) + \" kg\")"
   ]
  },
  {
   "cell_type": "code",
   "execution_count": 4,
   "metadata": {},
   "outputs": [
    {
     "name": "stdout",
     "output_type": "stream",
     "text": [
      "33.719761148530445 kg\n"
     ]
    }
   ],
   "source": [
    "radius = 1 #m\n",
    "rho = 8.050 #kg/m3\n",
    "mass = sphere_mass(radius,rho)\n",
    "print(str(mass) + \" kg\")"
   ]
  },
  {
   "cell_type": "code",
   "execution_count": 5,
   "metadata": {},
   "outputs": [
    {
     "name": "stdout",
     "output_type": "stream",
     "text": [
      "33719.761148530444 kg\n"
     ]
    }
   ],
   "source": [
    "radius = 10 #m\n",
    "rho = 8.050 #kg/m3\n",
    "mass = sphere_mass(radius,rho)\n",
    "print(str(mass) + \" kg\")"
   ]
  },
  {
   "cell_type": "code",
   "execution_count": null,
   "metadata": {},
   "outputs": [],
   "source": []
  }
 ],
 "metadata": {
  "kernelspec": {
   "display_name": "Python 3",
   "language": "python",
   "name": "python3"
  },
  "language_info": {
   "codemirror_mode": {
    "name": "ipython",
    "version": 3
   },
   "file_extension": ".py",
   "mimetype": "text/x-python",
   "name": "python",
   "nbconvert_exporter": "python",
   "pygments_lexer": "ipython3",
   "version": "3.7.3"
  }
 },
 "nbformat": 4,
 "nbformat_minor": 2
}
