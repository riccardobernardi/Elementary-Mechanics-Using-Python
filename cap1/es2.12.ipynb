{
 "cells": [
  {
   "cell_type": "code",
   "execution_count": 1,
   "metadata": {},
   "outputs": [],
   "source": [
    "from pylab import *"
   ]
  },
  {
   "cell_type": "code",
   "execution_count": 4,
   "metadata": {},
   "outputs": [],
   "source": [
    "a = loadtxt(\"velocityy.dat\")"
   ]
  },
  {
   "cell_type": "code",
   "execution_count": 5,
   "metadata": {},
   "outputs": [
    {
     "data": {
      "text/plain": [
       "array([[ 0.        ,  7.6604444 ],\n",
       "       [ 0.01      ,  7.4873721 ],\n",
       "       [ 0.02      ,  7.3159958 ],\n",
       "       [ 0.03      ,  7.1462991 ],\n",
       "       [ 0.04      ,  6.9782653 ],\n",
       "       [ 0.05      ,  6.8118783 ],\n",
       "       [ 0.06      ,  6.6471219 ],\n",
       "       [ 0.07      ,  6.4839801 ],\n",
       "       [ 0.08      ,  6.3224371 ],\n",
       "       [ 0.09      ,  6.1624772 ],\n",
       "       [ 0.1       ,  6.004085  ],\n",
       "       [ 0.11      ,  5.8472449 ],\n",
       "       [ 0.12      ,  5.6919419 ],\n",
       "       [ 0.13      ,  5.5381609 ],\n",
       "       [ 0.14      ,  5.3858869 ],\n",
       "       [ 0.15      ,  5.2351052 ],\n",
       "       [ 0.16      ,  5.0858012 ],\n",
       "       [ 0.17      ,  4.9379604 ],\n",
       "       [ 0.18      ,  4.7915683 ],\n",
       "       [ 0.19      ,  4.646611  ],\n",
       "       [ 0.2       ,  4.5030742 ],\n",
       "       [ 0.21      ,  4.3609441 ],\n",
       "       [ 0.22      ,  4.2202068 ],\n",
       "       [ 0.23      ,  4.0808488 ],\n",
       "       [ 0.24      ,  3.9428565 ],\n",
       "       [ 0.25      ,  3.8062165 ],\n",
       "       [ 0.26      ,  3.6709155 ],\n",
       "       [ 0.27      ,  3.5369406 ],\n",
       "       [ 0.28      ,  3.4042786 ],\n",
       "       [ 0.29      ,  3.2729166 ],\n",
       "       [ 0.3       ,  3.142842  ],\n",
       "       [ 0.31      ,  3.0140422 ],\n",
       "       [ 0.32      ,  2.8865046 ],\n",
       "       [ 0.33      ,  2.7602168 ],\n",
       "       [ 0.34      ,  2.6351667 ],\n",
       "       [ 0.35      ,  2.5113421 ],\n",
       "       [ 0.36      ,  2.3887309 ],\n",
       "       [ 0.37      ,  2.2673214 ],\n",
       "       [ 0.38      ,  2.1471016 ],\n",
       "       [ 0.39      ,  2.02806   ],\n",
       "       [ 0.4       ,  1.910185  ],\n",
       "       [ 0.41      ,  1.7934652 ],\n",
       "       [ 0.42      ,  1.6778893 ],\n",
       "       [ 0.43      ,  1.5634459 ],\n",
       "       [ 0.44      ,  1.4501242 ],\n",
       "       [ 0.45      ,  1.337913  ],\n",
       "       [ 0.46      ,  1.2268014 ],\n",
       "       [ 0.47      ,  1.1167788 ],\n",
       "       [ 0.48      ,  1.0078343 ],\n",
       "       [ 0.49      ,  0.89995754],\n",
       "       [ 0.5       ,  0.79313796],\n",
       "       [ 0.51      ,  0.68736521],\n",
       "       [ 0.52      ,  0.58262903],\n",
       "       [ 0.53      ,  0.47891926],\n",
       "       [ 0.54      ,  0.37622586],\n",
       "       [ 0.55      ,  0.27453884],\n",
       "       [ 0.56      ,  0.17384836],\n",
       "       [ 0.57      ,  0.07414465],\n",
       "       [ 0.58      , -0.02458197],\n",
       "       [ 0.59      , -0.12234107],\n",
       "       [ 0.6       , -0.21914212],\n",
       "       [ 0.61      , -0.31499453],\n",
       "       [ 0.62      , -0.40990759],\n",
       "       [ 0.63      , -0.50389049],\n",
       "       [ 0.64      , -0.59695236],\n",
       "       [ 0.65      , -0.68910223],\n",
       "       [ 0.66      , -0.78034903],\n",
       "       [ 0.67      , -0.87070161],\n",
       "       [ 0.68      , -0.96016873],\n",
       "       [ 0.69      , -1.0487591 ],\n",
       "       [ 0.7       , -1.1364812 ],\n",
       "       [ 0.71      , -1.2233437 ],\n",
       "       [ 0.72      , -1.309355  ],\n",
       "       [ 0.73      , -1.3945233 ],\n",
       "       [ 0.74      , -1.4788569 ],\n",
       "       [ 0.75      , -1.5623642 ],\n",
       "       [ 0.76      , -1.645053  ],\n",
       "       [ 0.77      , -1.7269315 ],\n",
       "       [ 0.78      , -1.8080075 ],\n",
       "       [ 0.79      , -1.8882891 ],\n",
       "       [ 0.8       , -1.9677838 ],\n",
       "       [ 0.81      , -2.0464995 ],\n",
       "       [ 0.82      , -2.1244439 ],\n",
       "       [ 0.83      , -2.2016243 ],\n",
       "       [ 0.84      , -2.2780484 ],\n",
       "       [ 0.85      , -2.3537235 ],\n",
       "       [ 0.86      , -2.428657  ],\n",
       "       [ 0.87      , -2.5028562 ],\n",
       "       [ 0.88      , -2.5763282 ],\n",
       "       [ 0.89      , -2.6490802 ],\n",
       "       [ 0.9       , -2.7211192 ],\n",
       "       [ 0.91      , -2.7924522 ],\n",
       "       [ 0.92      , -2.8630862 ],\n",
       "       [ 0.93      , -2.9330279 ],\n",
       "       [ 0.94      , -3.0022843 ],\n",
       "       [ 0.95      , -3.0708619 ],\n",
       "       [ 0.96      , -3.1387674 ],\n",
       "       [ 0.97      , -3.2060075 ],\n",
       "       [ 0.98      , -3.2725886 ],\n",
       "       [ 0.99      , -3.3385173 ],\n",
       "       [ 1.        , -3.4037998 ],\n",
       "       [ 1.01      , -3.4684426 ],\n",
       "       [ 1.02      , -3.5324518 ],\n",
       "       [ 1.03      , -3.5958338 ],\n",
       "       [ 1.04      , -3.6585946 ],\n",
       "       [ 1.05      , -3.7207404 ],\n",
       "       [ 1.06      , -3.7822771 ],\n",
       "       [ 1.07      , -3.8432108 ],\n",
       "       [ 1.08      , -3.9035474 ],\n",
       "       [ 1.09      , -3.9632926 ],\n",
       "       [ 1.1       , -4.0224523 ],\n",
       "       [ 1.11      , -4.0810323 ],\n",
       "       [ 1.12      , -4.1390382 ],\n",
       "       [ 1.13      , -4.1964756 ],\n",
       "       [ 1.14      , -4.2533501 ],\n",
       "       [ 1.15      , -4.3096673 ],\n",
       "       [ 1.16      , -4.3654326 ],\n",
       "       [ 1.17      , -4.4206513 ],\n",
       "       [ 1.18      , -4.475329  ],\n",
       "       [ 1.19      , -4.5294707 ],\n",
       "       [ 1.2       , -4.5830819 ],\n",
       "       [ 1.21      , -4.6361677 ],\n",
       "       [ 1.22      , -4.6887333 ],\n",
       "       [ 1.23      , -4.7407837 ],\n",
       "       [ 1.24      , -4.792324  ],\n",
       "       [ 1.25      , -4.8433592 ],\n",
       "       [ 1.26      , -4.8938943 ],\n",
       "       [ 1.27      , -4.9439341 ],\n",
       "       [ 1.28      , -4.9934836 ]])"
      ]
     },
     "execution_count": 5,
     "metadata": {},
     "output_type": "execute_result"
    }
   ],
   "source": [
    "a"
   ]
  },
  {
   "cell_type": "code",
   "execution_count": 3,
   "metadata": {},
   "outputs": [
    {
     "data": {
      "text/plain": [
       "[<matplotlib.lines.Line2D at 0x11ab640f0>]"
      ]
     },
     "execution_count": 3,
     "metadata": {},
     "output_type": "execute_result"
    },
    {
     "data": {
      "image/png": "[encoded data removed]",
      "text/plain": [
       "<Figure size 432x288 with 1 Axes>"
      ]
     },
     "metadata": {
      "needs_background": "light"
     },
     "output_type": "display_data"
    }
   ],
   "source": [
    "plot(a[:,0],a[:,1])"
   ]
  },
  {
   "cell_type": "code",
   "execution_count": 8,
   "metadata": {},
   "outputs": [],
   "source": [
    "y = zeros(len(a[:,0]),float)\n",
    "t = a[:,0]\n",
    "v = a[:,1]\n",
    "N = len(a[:,1])\n",
    "for i in range(1, N):\n",
    "    y[i] = y[i-1] + v[i-1] * (t[i] - t[i-1])"
   ]
  },
  {
   "cell_type": "code",
   "execution_count": 9,
   "metadata": {},
   "outputs": [
    {
     "data": {
      "text/plain": [
       "[<matplotlib.lines.Line2D at 0x11acca080>]"
      ]
     },
     "execution_count": 9,
     "metadata": {},
     "output_type": "execute_result"
    },
    {
     "data": {
      "image/png": "[encoded data removed]",
      "text/plain": [
       "<Figure size 432x288 with 1 Axes>"
      ]
     },
     "metadata": {
      "needs_background": "light"
     },
     "output_type": "display_data"
    }
   ],
   "source": [
    "plot(t,y)"
   ]
  },
  {
   "cell_type": "code",
   "execution_count": 10,
   "metadata": {},
   "outputs": [
    {
     "data": {
      "text/plain": [
       "[<matplotlib.lines.Line2D at 0x10c3f8e48>]"
      ]
     },
     "execution_count": 10,
     "metadata": {},
     "output_type": "execute_result"
    },
    {
     "data": {
      "image/png": "[encoded data removed]",
      "text/plain": [
       "<Figure size 432x288 with 1 Axes>"
      ]
     },
     "metadata": {
      "needs_background": "light"
     },
     "output_type": "display_data"
    }
   ],
   "source": [
    "plot(t,v)"
   ]
  },
  {
   "cell_type": "code",
   "execution_count": null,
   "metadata": {},
   "outputs": [],
   "source": []
  }
 ],
 "metadata": {
  "kernelspec": {
   "display_name": "Coconut (Python 3)",
   "language": "coconut",
   "name": "coconut3"
  },
  "language_info": {
   "codemirror_mode": {
    "name": "python",
    "version": 3
   },
   "file_extension": ".coco",
   "mimetype": "text/x-python3",
   "name": "coconut",
   "pygments_lexer": "coconut",
   "version": "1.4.1"
  }
 },
 "nbformat": 4,
 "nbformat_minor": 2
}
